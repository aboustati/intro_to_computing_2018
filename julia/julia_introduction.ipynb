{
 "cells": [
  {
   "cell_type": "markdown",
   "metadata": {},
   "source": [
    "# Introduction to Jupyter Notebooks and Julia"
   ]
  },
  {
   "cell_type": "markdown",
   "metadata": {},
   "source": [
    "## Jupyter Notebooks\n",
    "A Jupyter notebook allows cells of both markdown and code to place in series.  These cells can be evaluated in turn.  Markdown cells can contain text and equations, for example,\n",
    "$$\n",
    "i\\hbar\\frac{\\partial \\psi}{\\partial t} = -\\frac{\\hbar^2}{2m}\\nabla^2\\psi + V\\psi.\n",
    "$$\n",
    "Equations use the same syntax as in LaTeX.\n",
    "\n",
    "Code cells can contain code of the language the notebook.  In this case, we are using the Julia programming language, however notebooks with other programming languages (such as Python) are just as easily created.  Documentation for Jupyter can be found here http://jupyter.org/documentation.html.\n",
    "\n",
    "## Julia\n",
    "\n",
    "Julia is a scientific programming language, meaning it was created with ease of mathematical calculation in mind.\n",
    "\n",
    "### Advantages\n",
    "\n",
    "- Can be very fast (comparable to C).\n",
    "\n",
    "- Relatively intuitive and simple syntax.\n",
    "\n",
    "- Packages are easy to install and create.\n",
    "\n",
    "- Can call code from other languages (ccall, pycall, rcall).\n",
    "\n",
    "### Disadvantages\n",
    "\n",
    "- Relatively new (since 2012), however recently version 1.0 was released.\n",
    "\n",
    "- This means syntax has changed over time (so old code you find online may no longer work!).\n",
    "\n",
    "- Number of available libraries not as large as other languages (eg Python).\n",
    "\n",
    "The documentation for Julia can be found here https://docs.julialang.org/en/stable/, with the Introducing Julia wikibook also being highly useful (and more accessible to those newer to programming) https://en.wikibooks.org/wiki/Introducing_Julia."
   ]
  },
  {
   "cell_type": "markdown",
   "metadata": {},
   "source": [
    "## Variables\n",
    "Variables have different types, which can be explicitly set or are implied.  Below are some examples:"
   ]
  },
  {
   "cell_type": "code",
   "execution_count": null,
   "metadata": {
    "collapsed": true
   },
   "outputs": [],
   "source": [
    "a = 2 # integer\n",
    "b = 3.14 # float\n",
    "c = 1+2im # complex integer\n",
    "d = \"text\" # string, note we need double quotes\n",
    "falsum = false # boolean\n",
    "\n",
    "# now we check what types our variables are\n",
    "println(typeof(a))\n",
    "println(typeof(b))\n",
    "println(typeof(c))\n",
    "println(typeof(d))\n",
    "println(typeof(falsum))"
   ]
  },
  {
   "cell_type": "markdown",
   "metadata": {},
   "source": [
    "## Scalar Arithmetic\n",
    "The syntax for scalar arithmetic and logic operations in Julia is similar to what one might intuitively expect and other programming languages."
   ]
  },
  {
   "cell_type": "code",
   "execution_count": null,
   "metadata": {},
   "outputs": [],
   "source": [
    "println(2+3) # addition\n",
    "println(4*7) # multiplication\n",
    "println(4/7) # division, (which is not integer division by default)\n",
    "println(11%7) # remainder\n",
    "println(3^5) # exponentiation\n",
    "println(1//2+1//3) # addition of fractions"
   ]
  },
  {
   "cell_type": "code",
   "execution_count": null,
   "metadata": {},
   "outputs": [],
   "source": [
    "F = false\n",
    "T = true\n",
    "println(~T) # logical NOT\n",
    "println(T | F) # logical OR\n",
    "println(T & F) # logical AND\n",
    "println(xor(T,F)) # logical XOR"
   ]
  },
  {
   "cell_type": "code",
   "execution_count": null,
   "metadata": {},
   "outputs": [],
   "source": [
    "complex = pi+1im\n",
    "println(angle(complex)) # this gives the angle in radians\n",
    "println(real(complex)) # real part of the complex number\n",
    "println(imag(complex)) # imaginary part\n",
    "println(abs(complex)) # magnitude of the complex number"
   ]
  },
  {
   "cell_type": "markdown",
   "metadata": {},
   "source": [
    "## Arrays"
   ]
  },
  {
   "cell_type": "code",
   "execution_count": null,
   "metadata": {},
   "outputs": [],
   "source": [
    "A = [1,2,3] # a 3x1 array\n",
    "B = [4,5,6]\n",
    "R = [2 7 1] # note without the commas we obtain a 1x3 array\n",
    "B' # the ' sign indicates transpose\n",
    "println(R')\n",
    "println(R)"
   ]
  },
  {
   "cell_type": "markdown",
   "metadata": {},
   "source": [
    "Note that Julia starts indexing at 1, so to access the first element of an array we use A[1].  Furthermore, unlike in other programming languages, the last element of a range a:b is included."
   ]
  },
  {
   "cell_type": "code",
   "execution_count": null,
   "metadata": {},
   "outputs": [],
   "source": [
    "using LinearAlgebra # need this to use linear algebra operations"
   ]
  },
  {
   "cell_type": "code",
   "execution_count": null,
   "metadata": {},
   "outputs": [],
   "source": [
    "println(A+B) # addition\n",
    "println(A.*B) # elementwise multiplication\n",
    "println(dot(A,B)) # dot product\n",
    "println(cross(A,B)) # cross product\n",
    "println(A*B') # outer product, ' creates the transpose"
   ]
  },
  {
   "cell_type": "code",
   "execution_count": null,
   "metadata": {},
   "outputs": [],
   "source": [
    "A'*B"
   ]
  },
  {
   "cell_type": "markdown",
   "metadata": {},
   "source": [
    "## Matrices\n",
    "\n",
    "A matrix in Julia is simply a two-dimensional array and are therefore manipulated in a similar fashion.  In Julia, the indices [i,j] for an array give element at row i and column j.  In terms of memory, elements in high-dimensional arrays are stored in a column-major order, meaning that the element [i,j+1] comes after [i,j] in memory."
   ]
  },
  {
   "cell_type": "code",
   "execution_count": null,
   "metadata": {},
   "outputs": [],
   "source": [
    "M = [1 2 3; 4 5 6; 7 2 1] # semicolons separate the rows of the matrix"
   ]
  },
  {
   "cell_type": "code",
   "execution_count": null,
   "metadata": {},
   "outputs": [],
   "source": [
    "println(M[1,2]) # element at row 1, column 2\n",
    "println(M[:,1]) # all the elements of column 1\n",
    "println(M[1:2,:]) # elements 1 to 2 of each column\n",
    "println(M[[1,3],:]) # rows 1 and 3\n",
    "a = M[1,:]\n",
    "a[end-3]"
   ]
  },
  {
   "cell_type": "code",
   "execution_count": null,
   "metadata": {},
   "outputs": [],
   "source": [
    "println(det(M)) # determinant of the matrix\n",
    "println(eigen(M)) # eigenvalues AND corresponding eigenvectors\n",
    "println(inv(M)) # inverse matrix"
   ]
  },
  {
   "cell_type": "code",
   "execution_count": null,
   "metadata": {},
   "outputs": [],
   "source": [
    "println(diag(M,0))"
   ]
  },
  {
   "cell_type": "code",
   "execution_count": null,
   "metadata": {},
   "outputs": [],
   "source": [
    "x = 3.5\n",
    "y = floor(x)\n",
    "Int(y)"
   ]
  },
  {
   "cell_type": "markdown",
   "metadata": {},
   "source": [
    "## Exercise 1: Solve Ax=b\n",
    "\n",
    "Solve the following system of equations,\n",
    "$$\n",
    "2\\alpha+8\\beta+\\gamma+3\\delta = 100 \\\\\n",
    "\\alpha+\\beta+9\\gamma+7\\delta = 143 \\\\\n",
    "4\\alpha+9\\beta+\\gamma+5\\delta = 111 \\\\\n",
    "4\\alpha+8\\beta+8\\gamma+2\\delta = 264\n",
    "$$"
   ]
  },
  {
   "cell_type": "code",
   "execution_count": null,
   "metadata": {
    "collapsed": true
   },
   "outputs": [],
   "source": []
  },
  {
   "cell_type": "markdown",
   "metadata": {},
   "source": [
    "## Plotting\n",
    "With our knowlege of arrays, we can now plot some graphs.  First we will have to load the plotting functions.  For that, you may need the plotting package, which can be added with Pkg.add(\"PyPlot\")."
   ]
  },
  {
   "cell_type": "code",
   "execution_count": null,
   "metadata": {
    "collapsed": true
   },
   "outputs": [],
   "source": [
    "using Pkg\n",
    "Pkg.add(\"PyPlot\") # adds a plotting package\n",
    "Pkg.update() # updates all packages"
   ]
  },
  {
   "cell_type": "code",
   "execution_count": 4,
   "metadata": {},
   "outputs": [],
   "source": [
    "using PyPlot"
   ]
  },
  {
   "cell_type": "code",
   "execution_count": null,
   "metadata": {
    "collapsed": true
   },
   "outputs": [],
   "source": [
    "x = 0:0.01:5 # this object is called a range, its use is first:step:last\n",
    "y = exp.(-x).*cos.(5*x) # note the dot multiplication between the exponential and the cosine\n",
    "\n",
    "plot(x,y);"
   ]
  },
  {
   "cell_type": "code",
   "execution_count": null,
   "metadata": {
    "collapsed": true
   },
   "outputs": [],
   "source": [
    "ω = -3:0.1:3\n",
    "F = sinc.(ω)\n",
    "G = exp.(-ω.^2)\n",
    "plot(ω,F,label=\"F\")\n",
    "plot(ω,G,label=\"G\")\n",
    "xlabel(\"Angular Frequency\")\n",
    "ylabel(\"Amplitude\")\n",
    "legend()"
   ]
  },
  {
   "cell_type": "markdown",
   "metadata": {},
   "source": [
    "## Functions\n",
    "\n",
    "Functions are highly useful in any programming language.  In Julia, user-defined functions usually begin with the statement function and must be terminated with end, however functions can also be written in-line."
   ]
  },
  {
   "cell_type": "code",
   "execution_count": null,
   "metadata": {
    "collapsed": true
   },
   "outputs": [],
   "source": [
    "function test(a,b)\n",
    "    println(\"The sum of $(a) and $(b) is $(a+b)\")\n",
    "    return 7\n",
    "end # you must end a function with end\n",
    "\n",
    "f(x,a,b,c) = a*x^2+b*x+c\n",
    "\n",
    "test(3,4)\n",
    "println(f(10,1,2,1))"
   ]
  },
  {
   "cell_type": "markdown",
   "metadata": {},
   "source": [
    "Conditional statements have similar syntax as functions in that the condition must be terminated by end.  Loops also use similar syntax."
   ]
  },
  {
   "cell_type": "code",
   "execution_count": null,
   "metadata": {
    "collapsed": true
   },
   "outputs": [],
   "source": [
    "function odd_or_even(a)\n",
    "    rem = a%2\n",
    "    if rem == 0 # note the use of == rather than =\n",
    "        println(\"$(a) is even\")\n",
    "    elseif rem == 1 # we could also just replace this with 'else'\n",
    "        println(\"$(a) is odd\")\n",
    "    end\n",
    "end\n",
    "\n",
    "odd_or_even(101)"
   ]
  },
  {
   "cell_type": "code",
   "execution_count": null,
   "metadata": {
    "collapsed": true
   },
   "outputs": [],
   "source": [
    "function cumulative_sum(array)\n",
    "    total = 0\n",
    "    for i=1:length(array)\n",
    "        total += array[i]\n",
    "    end\n",
    "    return total\n",
    "end\n",
    "\n",
    "cumulative_sum([1,4,5,8,7])"
   ]
  },
  {
   "cell_type": "code",
   "execution_count": null,
   "metadata": {
    "collapsed": true
   },
   "outputs": [],
   "source": [
    "function simple_ode(y0,t)\n",
    "    # this function gives the numerical solution to the ODE dy/dt(t) = e^(-t) with initial condition y(0) = y0\n",
    "    y = zeros(length(t)) # need solution output to be of the same size\n",
    "    y[1] = y0\n",
    "    dt = t[2]-t[1] # extract the timestep\n",
    "    for i=2:length(t)\n",
    "        y[i] = y[i-1]+dt*exp(-t[i])\n",
    "    end\n",
    "    return y\n",
    "end"
   ]
  },
  {
   "cell_type": "code",
   "execution_count": null,
   "metadata": {
    "collapsed": true
   },
   "outputs": [],
   "source": [
    "y0 = 5\n",
    "t = 0:0.1:10\n",
    "y = simple_ode(y0,t)\n",
    "plot(t,y)"
   ]
  },
  {
   "cell_type": "markdown",
   "metadata": {},
   "source": [
    "## Exercise 2: Lorenz Attractor\n",
    "\n",
    "Visualise the trajectory,\n",
    "$$\n",
    "\\frac{dx}{dt} = \\sigma(y-x) \\\\\n",
    "\\frac{dy}{dt} = x(\\rho-z) - y \\\\\n",
    "\\frac{dz}{dt} = xy-\\beta z,\n",
    "$$\n",
    "\n",
    "for $x(0) = y(0) = z(0) = 1$, $t \\in [0,100]$, $\\sigma = 10$, $\\rho = 28$ and $\\beta = 8/3$.\n",
    "\n",
    "To create 3-dimensional plots of a tracjetory, the path3d(x,y,z) function can be used. Note: make your timestep small."
   ]
  },
  {
   "cell_type": "code",
   "execution_count": null,
   "metadata": {},
   "outputs": [],
   "source": []
  },
  {
   "cell_type": "markdown",
   "metadata": {},
   "source": [
    "## Pseudo-Random Number Generation\n",
    "\n",
    "Random number generation is vital for stochastic simulations.  Pseudorandom numbers can be easily generated in Julia, and the seed can also be defined.  When we define the seed, this fixes the random numbers generated, allowing stochastic simulations to be replicated."
   ]
  },
  {
   "cell_type": "code",
   "execution_count": null,
   "metadata": {},
   "outputs": [],
   "source": [
    "using Random\n",
    "rand(3) # generates 3 uniform [0,1) random numbers"
   ]
  },
  {
   "cell_type": "code",
   "execution_count": null,
   "metadata": {},
   "outputs": [],
   "source": [
    "randn() # generates a normally distributed random number, with zero mean and unit variance"
   ]
  },
  {
   "cell_type": "code",
   "execution_count": null,
   "metadata": {},
   "outputs": [],
   "source": [
    "Random.seed!(1000) # set the random seed\n",
    "randn(4,4) # generate a 4x4 matrix of normally distributed random numbers"
   ]
  },
  {
   "cell_type": "markdown",
   "metadata": {},
   "source": [
    "Notice what happens when the code blocks without the random seed are rerun and when the code block with the fixed random see is rerun."
   ]
  },
  {
   "cell_type": "code",
   "execution_count": null,
   "metadata": {},
   "outputs": [],
   "source": [
    "n = zeros(10)\n",
    "randexp!(n) # here we have a predefined array and give each value an exponentially distributed random number"
   ]
  },
  {
   "cell_type": "markdown",
   "metadata": {},
   "source": [
    "In built functions also exist for calculating summary statistics, such as the mean and the variance."
   ]
  },
  {
   "cell_type": "code",
   "execution_count": null,
   "metadata": {},
   "outputs": [],
   "source": [
    "using Statistics\n",
    "println(mean(n))\n",
    "println(var(n))"
   ]
  },
  {
   "cell_type": "code",
   "execution_count": null,
   "metadata": {},
   "outputs": [],
   "source": [
    "a = 4\n",
    "b = 5\n",
    "counter = 0\n",
    "if a < b \n",
    "    counter += 1\n",
    "    println(\"inside\")\n",
    "end\n",
    "print(counter)"
   ]
  },
  {
   "cell_type": "markdown",
   "metadata": {},
   "source": [
    "## Exercise 3: Estimate Pi\n",
    "\n",
    "Estimate $\\pi$ by generating random numbers.  Hint: generate x and y in the interval [0,1) and see how many of these satisfy $x^2+y^2 < 1$."
   ]
  },
  {
   "cell_type": "code",
   "execution_count": null,
   "metadata": {
    "collapsed": true
   },
   "outputs": [],
   "source": []
  },
  {
   "cell_type": "markdown",
   "metadata": {},
   "source": [
    "## File Input/Output\n",
    "Files can be saved and read using the dlmsave and dlmread functions."
   ]
  },
  {
   "cell_type": "code",
   "execution_count": null,
   "metadata": {
    "collapsed": true
   },
   "outputs": [],
   "source": [
    "using DelimitedFiles\n",
    "Random.seed!(1000)\n",
    "t = 1:1:100\n",
    "x = rand(100)\n",
    "y = x.^2\n",
    "writedlm(\"test_numbers.txt\",[t x y]) # this will save three columns of data, check your file by opening it"
   ]
  },
  {
   "cell_type": "code",
   "execution_count": null,
   "metadata": {},
   "outputs": [],
   "source": [
    "data = readdlm(\"test_numbers.txt\")\n",
    "T = data[:,1]\n",
    "X = data[:,2]\n",
    "Y = data[:,3]\n",
    "plot(T,X)\n",
    "plot(T,Y)"
   ]
  },
  {
   "cell_type": "markdown",
   "metadata": {},
   "source": [
    "## Exercise 4: Ising Model\n",
    "\n",
    "The Ising model was developed for ferromagnetism and is a simple model for looking at phase transitions.  Consider a lattice with $L$ sites, where each site $i$ has a spin $\\sigma$ which can be -1 or +1,\n",
    "\n",
    "$$\n",
    "\\sigma_i \\in \\{-1,+1\\}.\n",
    "$$\n",
    "\n",
    "The energy of the system is given by,\n",
    "$$\n",
    "H(\\sigma) = -J\\sum_{i,j}\\sigma_i\\sigma_j,\n",
    "$$\n",
    "where we will only consider interactions between nearest neighbours $(i,j)$ to contribute to the energy of the system.  The spin of each site can change if it minimises the energy of the system.\n",
    "\n",
    "The goal of this exercise is to create a simulation of the Ising model using a Metropolis-Hastings algorithm.  This algorithm has the following steps:\n",
    "\n",
    "1 - Choose a site $i$ on the lattice randomly with probability $p$.\n",
    "\n",
    "2 - Flip the state of site $i$ (multiply $\\sigma_i$ by -1).\n",
    "\n",
    "3 - If the new energy with the flipped site is lower than it was before, keep the site flipped.\n",
    "\n",
    "4 - If the new energy is larger, keep the site flipped with probability $\\exp[-\\beta(H_{new}-H_{old}]$.\n",
    "\n",
    "5 - Repeat steps 1-4 until the system reaches a steady state.\n",
    "\n",
    "To give an example of how the energy is calculated, consider a lattice with $L=5$ with spins,\n",
    "$$\n",
    "\\{-1,1,1,-1,1\\}.\n",
    "$$\n",
    "Here the energy is $H = -[(-1\\times 1)+(1\\times 1)+(1\\times -1)+(-1\\times 1)] = -[-1+1-1-1] = 2$, where we have assumed $J=1$.\n",
    "\n",
    "Areas to investigate:\n",
    "\n",
    "a) How does the initial condition of the lattice change the final structure?  Try implementing a random initial condition as well.\n",
    "\n",
    "b) How does the parameter $J$ qualitatively affect the lattice?  Try $J > 0 $ and $J < 0$.\n",
    "\n",
    "c) How does the parameter $\\beta$ qualitatively affect the lattice? Note $\\beta > 0$.\n",
    "\n",
    "d) Try a 2-d lattice in addition to a 1-d lattice.\n",
    "\n",
    "e) Extract the final value of $H$ and plot how it varies with the two parameters."
   ]
  },
  {
   "cell_type": "code",
   "execution_count": null,
   "metadata": {
    "collapsed": true
   },
   "outputs": [],
   "source": []
  },
  {
   "cell_type": "markdown",
   "metadata": {},
   "source": [
    "## Advanced: Structs\n",
    "\n",
    "A struct is a composite type, meaning that it is an object which can hold different objects which have different types.  They are useful for compactly holding a large set of values.\n",
    "\n",
    "(For Python users, they are similar to classes.  However, with the exception of inner constructors, methods cannot be defined within the struct.)"
   ]
  },
  {
   "cell_type": "code",
   "execution_count": 2,
   "metadata": {},
   "outputs": [],
   "source": [
    "struct Planet\n",
    "    name::String\n",
    "    mass::Float64 # in kilograms\n",
    "    rad::Float64 # in metres\n",
    "end\n",
    "# note structs DO NOT like be redefined, if you need to change the definition in a jupyter notebook:\n",
    "# either rename the struct (eg Planet2) or restart the kernel"
   ]
  },
  {
   "cell_type": "code",
   "execution_count": null,
   "metadata": {},
   "outputs": [],
   "source": [
    "earth = Planet(\"Earth\",6.0e24,6.4e6) # this is how we define an object of composite type Planet"
   ]
  },
  {
   "cell_type": "code",
   "execution_count": null,
   "metadata": {},
   "outputs": [],
   "source": [
    "# attributes of the struct are accessed with .\n",
    "println(earth.name)\n",
    "println(earth.mass)\n",
    "println(earth.rad)"
   ]
  },
  {
   "cell_type": "code",
   "execution_count": null,
   "metadata": {},
   "outputs": [],
   "source": [
    "# what happens if we try to change the mass of the Earth?\n",
    "earth.mass = 1.0"
   ]
  },
  {
   "cell_type": "code",
   "execution_count": null,
   "metadata": {},
   "outputs": [],
   "source": [
    "# what happens if we try to define a Planet which has types which do not correspont to our struct?\n",
    "bizarro = Planet(false, 1, ['a','b'])"
   ]
  },
  {
   "cell_type": "code",
   "execution_count": 3,
   "metadata": {},
   "outputs": [
    {
     "data": {
      "text/plain": [
       "surface_gravity (generic function with 1 method)"
      ]
     },
     "execution_count": 3,
     "metadata": {},
     "output_type": "execute_result"
    }
   ],
   "source": [
    "# let's create a function that uses the Planet struct\n",
    "const G = 6.67e-11\n",
    "\n",
    "function surface_gravity(p::Planet)\n",
    "    return G*p.mass/p.rad^2\n",
    "end"
   ]
  },
  {
   "cell_type": "code",
   "execution_count": null,
   "metadata": {},
   "outputs": [],
   "source": [
    "surface_gravity(earth)"
   ]
  },
  {
   "cell_type": "code",
   "execution_count": 6,
   "metadata": {},
   "outputs": [],
   "source": [
    "# mutable structs allow their attributes to be changed\n",
    "mutable struct Body\n",
    "    m::Float64 # in kilograms\n",
    "    x::Float64 # x position m\n",
    "    y::Float64 # y position\n",
    "    vx::Float64 # x velocity\n",
    "    vy::Float64 # y velocity\n",
    "end"
   ]
  },
  {
   "cell_type": "markdown",
   "metadata": {},
   "source": [
    "## Exercise 5: Orbits\n",
    "\n",
    "Given that the gravitational acceleration of two objects separated by a displacement vector $\\vec{r}_{21} = \\vec{r}_1-\\vec{r}_2$ (with unit vector $\\hat{r}_{21}$) is given by,\n",
    "\n",
    "$ \\vec{a}_{1} = -\\frac{G m_2}{|\\vec{r}_{21}|^2}\\hat{r}_{21}$\n",
    "\n",
    "create a simulation that generates the trajectories of the two-body problem.  You may find it helpful to use the Body struct, but you do not have to.  Since the acceleration depends entirely on position, Verlet integration is a useful and simple scheme to implement (https://en.wikipedia.org/wiki/Verlet_integration).  Use the parameters for the examples given first (A and B, then C and D), then experiment with your own parameters.\n",
    "\n",
    "Areas to investigate:\n",
    "\n",
    "a) What sets of parameters given stable orbits?\n",
    "\n",
    "b) How would you implement the three-body problem?"
   ]
  },
  {
   "cell_type": "code",
   "execution_count": 79,
   "metadata": {},
   "outputs": [],
   "source": [
    "A = Body(1/G,0.0,0.0,0.0,0.0)\n",
    "B = Body(0.001/G,1.0,0.0,0.0,1.0)\n",
    "C = Body(1/G,0.0,0.0,0.0,0.5)\n",
    "D = Body(1/G,2.0,2.0,0.0,-0.5);"
   ]
  },
  {
   "cell_type": "code",
   "execution_count": 133,
   "metadata": {},
   "outputs": [
    {
     "data": {
      "text/plain": [
       "acceleration (generic function with 1 method)"
      ]
     },
     "execution_count": 133,
     "metadata": {},
     "output_type": "execute_result"
    }
   ],
   "source": [
    "function acceleration(b1,b2) # calculates the acceleration of object 1\n",
    "    Δx = b1.x-b2.x\n",
    "    Δy = b1.y-b2.y\n",
    "    Δr = sqrt(Δx^2+Δy^2)\n",
    "    ax = -Δx*G*b2.m/Δr^3\n",
    "    ay = -Δy*G*b2.m/Δr^3\n",
    "    return ax,ay\n",
    "end"
   ]
  },
  {
   "cell_type": "code",
   "execution_count": 227,
   "metadata": {},
   "outputs": [
    {
     "data": {
      "text/plain": [
       "verlet_integrator (generic function with 1 method)"
      ]
     },
     "execution_count": 227,
     "metadata": {},
     "output_type": "execute_result"
    }
   ],
   "source": [
    "function verlet_integrator(b1,b2,N,dt)\n",
    "    # first calculate the initial accelerations\n",
    "    a1x, a1y = acceleration(b1,b2)\n",
    "    a2x, a2y = acceleration(b2,b1)\n",
    "    x1 = zeros(N+1)\n",
    "    y1 = zeros(N+1)\n",
    "    x2 = zeros(N+1)\n",
    "    y2 = zeros(N+1)\n",
    "    x1[1] = b1.x\n",
    "    y1[1] = b1.y\n",
    "    x2[1] = b2.x\n",
    "    y2[1] = b2.y\n",
    "    for i=1:N\n",
    "        # first calculate the new position\n",
    "        b1.x = b1.x+b1.vx*dt+0.5*a1x*dt^2\n",
    "        b1.y = b1.y+b1.vy*dt+0.5*a1y*dt^2\n",
    "        b2.x = b2.x+b2.vx*dt+0.5*a2x*dt^2\n",
    "        b2.y = b2.y+b2.vy*dt+0.5*a2y*dt^2\n",
    "        x1[i+1] = b1.x\n",
    "        y1[i+1] = b1.y\n",
    "        x2[i+1] = b2.x\n",
    "        y2[i+1] = b2.y\n",
    "        # then calculate the new accelerations from these positions\n",
    "        a1x_n, a1y_n = acceleration(b1,b2)\n",
    "        a2x_n, a2y_n = acceleration(b2,b1)\n",
    "        # finally compute the new velocities\n",
    "        b1.vx = b1.vx+0.5*(a1x+a1x_n)*dt\n",
    "        b1.vy = b1.vy+0.5*(a1y+a1y_n)*dt\n",
    "        b2.vx = b2.vx+0.5*(a2x+a2x_n)*dt\n",
    "        b2.vy = b2.vy+0.5*(a2y+a2y_n)*dt\n",
    "        a1x = a1x_n\n",
    "        a1y = a1y_n\n",
    "        a2x = a2x_n\n",
    "        a2y = a2y_n\n",
    "    end\n",
    "    return x1,y1,x2,y2\n",
    "end"
   ]
  },
  {
   "cell_type": "code",
   "execution_count": 232,
   "metadata": {},
   "outputs": [],
   "source": [
    "N = 100\n",
    "dt = 0.1\n",
    "x1,y1,x2,y2 = verlet_integrator(A,B,N,dt);"
   ]
  },
  {
   "cell_type": "code",
   "execution_count": 233,
   "metadata": {},
   "outputs": [],
   "source": [
    "t = [i*dt for i=0:N];"
   ]
  },
  {
   "cell_type": "code",
   "execution_count": 234,
   "metadata": {},
   "outputs": [
    {
     "data": {
      "image/png": "[encoded data removed]",
      "text/plain": [
       "Figure(PyObject <Figure size 640x480 with 1 Axes>)"
      ]
     },
     "metadata": {},
     "output_type": "display_data"
    },
    {
     "data": {
      "text/plain": [
       "1-element Array{PyCall.PyObject,1}:\n",
       " PyObject <matplotlib.lines.Line2D object at 0x7f0eaecedcf8>"
      ]
     },
     "execution_count": 234,
     "metadata": {},
     "output_type": "execute_result"
    }
   ],
   "source": [
    "plot(t,x1)\n",
    "plot(t,y1,\"--\")\n",
    "plot(t,x2)\n",
    "plot(t,y2,\"--\")"
   ]
  },
  {
   "cell_type": "code",
   "execution_count": 236,
   "metadata": {},
   "outputs": [
    {
     "data": {
      "image/png": "[encoded data removed]",
      "text/plain": [
       "Figure(PyObject <Figure size 640x480 with 1 Axes>)"
      ]
     },
     "metadata": {},
     "output_type": "display_data"
    },
    {
     "data": {
      "text/plain": [
       "1-element Array{PyCall.PyObject,1}:\n",
       " PyObject <matplotlib.lines.Line2D object at 0x7f0eaec2de10>"
      ]
     },
     "execution_count": 236,
     "metadata": {},
     "output_type": "execute_result"
    }
   ],
   "source": [
    "plot(x2,y2)"
   ]
  },
  {
   "cell_type": "code",
   "execution_count": 287,
   "metadata": {},
   "outputs": [],
   "source": [
    "N = 1000\n",
    "dt = 0.1\n",
    "x1,y1,x2,y2 = verlet_integrator(C,D,N,dt);"
   ]
  },
  {
   "cell_type": "code",
   "execution_count": 288,
   "metadata": {},
   "outputs": [],
   "source": [
    "t = [i*dt for i=0:N];"
   ]
  },
  {
   "cell_type": "code",
   "execution_count": 289,
   "metadata": {},
   "outputs": [
    {
     "data": {
      "image/png": "[encoded data removed]",
      "text/plain": [
       "Figure(PyObject <Figure size 640x480 with 1 Axes>)"
      ]
     },
     "metadata": {},
     "output_type": "display_data"
    },
    {
     "data": {
      "text/plain": [
       "1-element Array{PyCall.PyObject,1}:\n",
       " PyObject <matplotlib.lines.Line2D object at 0x7f0eae6d9cc0>"
      ]
     },
     "execution_count": 289,
     "metadata": {},
     "output_type": "execute_result"
    }
   ],
   "source": [
    "plot(x1,y1)\n",
    "plot(x2,y2)"
   ]
  },
  {
   "cell_type": "code",
   "execution_count": null,
   "metadata": {},
   "outputs": [],
   "source": []
  }
 ],
 "metadata": {
  "kernelspec": {
   "display_name": "Julia 0.7.0",
   "language": "julia",
   "name": "julia-0.7"
  },
  "language_info": {
   "file_extension": ".jl",
   "mimetype": "application/julia",
   "name": "julia",
   "version": "0.7.0"
  }
 },
 "nbformat": 4,
 "nbformat_minor": 2
}
