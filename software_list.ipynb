{
 "cells": [
  {
   "cell_type": "markdown",
   "metadata": {},
   "source": [
    "# Software List\n",
    "\n",
    "## LaTeX\n",
    "\n",
    "- TeXstudio\n",
    "\n",
    "- Lyx\n",
    "\n",
    "- [Overleaf](https://www.overleaf.com/) \n",
    "\n",
    "## Image editing/creation\n",
    "\n",
    "- Inkscape\n",
    "\n",
    "## Reference management\n",
    "\n",
    "- Zotero\n",
    "\n",
    "## Storage\n",
    "\n",
    "- Dropbox"
   ]
  }
 ],
 "metadata": {
  "kernelspec": {
   "display_name": "Julia 0.7.0",
   "language": "julia",
   "name": "julia-0.7"
  },
  "language_info": {
   "file_extension": ".jl",
   "mimetype": "application/julia",
   "name": "julia",
   "version": "0.7.0"
  }
 },
 "nbformat": 4,
 "nbformat_minor": 2
}
